{
 "cells": [
  {
   "cell_type": "markdown",
   "id": "72167b77",
   "metadata": {},
   "source": [
    "## Object Oriented Programming"
   ]
  },
  {
   "cell_type": "markdown",
   "id": "4088412a",
   "metadata": {},
   "source": [
    "### Class and object\n",
    "\n",
    "Class:\n",
    "- A class is a blueprint or template from which objects are created\n",
    "- class contains attributes and methods"
   ]
  },
  {
   "cell_type": "code",
   "execution_count": null,
   "id": "c07864f9",
   "metadata": {},
   "outputs": [],
   "source": [
    "#syntax\n",
    "\n",
    "class class_name:\n",
    "    pass"
   ]
  },
  {
   "cell_type": "code",
   "execution_count": null,
   "id": "8e8ac43e",
   "metadata": {},
   "outputs": [],
   "source": [
    "class class_name():\n",
    "    pass"
   ]
  },
  {
   "cell_type": "code",
   "execution_count": null,
   "id": "08780b54",
   "metadata": {},
   "outputs": [],
   "source": [
    "class class_name(object):\n",
    "    pass"
   ]
  },
  {
   "cell_type": "markdown",
   "id": "ac74797a",
   "metadata": {},
   "source": [
    "Object:\n",
    "- it is known as instance of class\n",
    "- it has state(attributes/variables) and behaviour(methods/actions)\n",
    "- it can be any real life entity like pencil, table, car etc.\n",
    "- in programming terms object represents integer, float, string, array etc."
   ]
  },
  {
   "cell_type": "code",
   "execution_count": null,
   "id": "535e3ef0",
   "metadata": {},
   "outputs": [],
   "source": [
    "#syntax\n",
    "\n",
    "class_name() #object without name\n",
    "#or\n",
    "obj = class_name() #object with name"
   ]
  },
  {
   "cell_type": "markdown",
   "id": "95749bf2",
   "metadata": {},
   "source": [
    "- we can create n no of objects of single class\n",
    "- we always access contents of a class by its object"
   ]
  },
  {
   "cell_type": "code",
   "execution_count": 1,
   "id": "13af613b",
   "metadata": {
    "scrolled": true
   },
   "outputs": [
    {
     "name": "stdout",
     "output_type": "stream",
     "text": [
      "<__main__.A object at 0x00000213A2AE05B0>\n",
      "2283356922448\n"
     ]
    }
   ],
   "source": [
    "#creating class and object\n",
    "\n",
    "class A: #class definition\n",
    "    pass\n",
    "\n",
    "a1 = A() #object creation\n",
    "a2 = A() \n",
    "\n",
    "print(a1) #printing obj(without str) will return the memory location of obj\n",
    "print(id(a2)) # return the identity of an object"
   ]
  },
  {
   "cell_type": "markdown",
   "id": "0660de38",
   "metadata": {},
   "source": [
    " ### class variable and instance variable\n",
    " \n",
    " Instance var: \n",
    " - attributes are always written using object and dot, these are known as instance variable.\n",
    " - instance variable are restricted from that object only."
   ]
  },
  {
   "cell_type": "markdown",
   "id": "f36a97f8",
   "metadata": {},
   "source": [
    "Class variable:\n",
    "- it is common for all objects"
   ]
  },
  {
   "cell_type": "markdown",
   "id": "94fb291f",
   "metadata": {},
   "source": [
    "NOTE: standard practice says that class name should be capitalize"
   ]
  },
  {
   "cell_type": "code",
   "execution_count": 2,
   "id": "2591233c",
   "metadata": {},
   "outputs": [
    {
     "name": "stdout",
     "output_type": "stream",
     "text": [
      "2345 black a3 petrol\n",
      "2345 black a3 diesel\n",
      "EV\n",
      "2345 black a3 EV\n",
      "2345 black a3 diesel\n"
     ]
    }
   ],
   "source": [
    "class Car:\n",
    "    variant = 'petrol' #class var\n",
    "    \n",
    "audi = Car() #creating an object\n",
    "audi.no = 2345 #instance var\n",
    "audi.color = 'black'\n",
    "audi.model = 'a3'\n",
    "\n",
    "nexon = Car() #creating an object\n",
    "nexon.no = 2345 #instance var\n",
    "nexon.color = 'black'\n",
    "nexon.model = 'a3'\n",
    "nexon.variant = 'diesel' # if we update class var in obj then it is updated\n",
    "                         # for that obj only\n",
    "\n",
    "print(audi.no,audi.color,audi.model,audi.variant)\n",
    "print(nexon.no,nexon.color,nexon.model,nexon.variant)\n",
    "\n",
    "#if we want to update class var then by class name we can do it \n",
    "#and it will be updated for whole class and object defined after this\n",
    "\n",
    "Car.variant = 'EV'\n",
    "print(Car.variant)\n",
    "\n",
    "print(audi.no,audi.color,audi.model,audi.variant)\n",
    "print(nexon.no,nexon.color,nexon.model,nexon.variant)"
   ]
  },
  {
   "cell_type": "markdown",
   "id": "aa5968b0",
   "metadata": {},
   "source": [
    "### Methods in class:\n",
    "\n",
    "Methods:\n",
    "- these are action related to class\n",
    "- methods are same as function only they are defined inside the class\n",
    "- method contains one mandatory parameter (self)\n",
    "- self contains current object\n",
    "- we can write other variable instead of self but it is standard programming practice to write self"
   ]
  },
  {
   "cell_type": "code",
   "execution_count": 3,
   "id": "9da79bbd",
   "metadata": {},
   "outputs": [
    {
     "name": "stdout",
     "output_type": "stream",
     "text": [
      "car no : 123\n",
      "car color : black\n",
      "car model : a3\n",
      "car no : 321\n",
      "car color : white\n",
      "car model : m5\n"
     ]
    }
   ],
   "source": [
    "class Car:\n",
    "    \n",
    "    def details(self,n,c,m): #self = c1, n = 123, c = 'black', m = 'a3'\n",
    "        self.no = n #c1.no = 123\n",
    "        self.color = c #c1.color = 'black'\n",
    "        self.model = m #c1.model = 'a3'\n",
    "        \n",
    "    def display(self): #we have created display method to print all at once\n",
    "        print('car no :',self.no) #c1.no\n",
    "        print('car color :',self.color) #c1.color\n",
    "        print('car model :',self.model) #c1.model\n",
    "        \n",
    "c1 =  Car()\n",
    "c1.details(123,'black','a3') #Car.details(c1,123,'black','a3')\n",
    "c1.display() #Car.display(c1)\n",
    "\n",
    "c2 =  Car()\n",
    "c2.details(321,'white','m5')\n",
    "c2.display()\n",
    "\n",
    "#print(c1.no,c1.color,c1.model)"
   ]
  },
  {
   "cell_type": "markdown",
   "id": "2c924376",
   "metadata": {},
   "source": [
    "### __init__ constructor in python\n",
    "\n",
    "- it is a magic method/dunder method by the name __init__()\n",
    "- it is magic method because we dont call it manually\n",
    "- __init__() is called automaticlly when we create object of class\n",
    "- it is use to initialise instance variable"
   ]
  },
  {
   "cell_type": "code",
   "execution_count": 4,
   "id": "d82ae3a9",
   "metadata": {},
   "outputs": [
    {
     "name": "stdout",
     "output_type": "stream",
     "text": [
      "constructor is called automatically\n",
      "constructor is called automatically\n"
     ]
    }
   ],
   "source": [
    "class A:\n",
    "    def __init__(self):\n",
    "        print(\"constructor is called automatically\")\n",
    "        \n",
    "a = A()\n",
    "a1 = A()"
   ]
  },
  {
   "cell_type": "code",
   "execution_count": 5,
   "id": "306a6958",
   "metadata": {},
   "outputs": [
    {
     "name": "stdout",
     "output_type": "stream",
     "text": [
      "car no :  1234\n",
      "car model :  a3\n",
      "car color :  white\n",
      "Enter car no : 8888\n",
      "Enter car color : black\n",
      "Enter car model : M5\n",
      "car no :  8888\n",
      "car model :  M5\n",
      "car color :  black\n"
     ]
    }
   ],
   "source": [
    "#Example\n",
    "class Car:\n",
    "    def __init__(self,n,c,m):\n",
    "        self.no = n\n",
    "        self.color = c\n",
    "        self.model = m\n",
    "        \n",
    "    def display(self):\n",
    "        print(\"car no : \",self.no)\n",
    "        print(\"car model : \",self.model)\n",
    "        print(\"car color : \",self.color)\n",
    "        \n",
    "c1 = Car(1234,\"white\",\"a3\")\n",
    "c1.display()\n",
    "\n",
    "#user input\n",
    "c2 = Car(int(input(\"Enter car no : \")),input(\"Enter car color : \"),input(\"Enter car model : \"))\n",
    "c2.display()"
   ]
  },
  {
   "cell_type": "markdown",
   "id": "e82aa2c2",
   "metadata": {},
   "source": [
    "### __str__() constructor\n",
    "\n",
    "- it stands for string representation of object\n",
    "- it is called automatically when we write object inside print function\n",
    "- it is use to display an objects information\n",
    "- it always return string describing object\n",
    "- if we dont return string then we get error"
   ]
  },
  {
   "cell_type": "code",
   "execution_count": 6,
   "id": "2f53dc2c",
   "metadata": {},
   "outputs": [
    {
     "name": "stdout",
     "output_type": "stream",
     "text": [
      "__str__ is called\n"
     ]
    }
   ],
   "source": [
    "class A:\n",
    "    def __str__(self):\n",
    "        return \"__str__ is called\"\n",
    "\n",
    "a = A()\n",
    "print(a)\n",
    "\n",
    "#Note -  if we print an object w/o str then it will return memory loc of obj"
   ]
  },
  {
   "cell_type": "code",
   "execution_count": 7,
   "id": "3881c0b0",
   "metadata": {},
   "outputs": [
    {
     "name": "stdout",
     "output_type": "stream",
     "text": [
      "College name : Pillai\n",
      "University : Mumbai University\n",
      "Location : Panvel\n",
      "College name : Convent\n",
      "University : MU\n",
      "Location : Mumbai\n"
     ]
    }
   ],
   "source": [
    "#Example of __init_- and __str__\n",
    "\n",
    "class CollegeInfo:\n",
    "    def __init__(self,name,uni,location):\n",
    "        self.name = name\n",
    "        self.university = uni\n",
    "        self.location = location\n",
    "\n",
    "    def __str__(self):\n",
    "        return f\"College name : {self.name}\\nUniversity : {self.university}\\nLocation : {self.location}\"\n",
    "    \n",
    "c1 = CollegeInfo(\"Pillai\",\"Mumbai University\",\"Panvel\")\n",
    "c2 = CollegeInfo(\"Convent\",\"MU\",\"Mumbai\")\n",
    "print(c1)\n",
    "print(c2)"
   ]
  },
  {
   "cell_type": "code",
   "execution_count": 8,
   "id": "99c03e2c",
   "metadata": {},
   "outputs": [
    {
     "name": "stdout",
     "output_type": "stream",
     "text": [
      "Enter number of input : 2\n",
      "Enter college name : Pillai\n",
      "Enter university : MU\n",
      "Enter college location : Rasayni\n",
      "-----\n",
      " College name : Pillai\n",
      "University : MU\n",
      "Location : Rasayni \n",
      "-----\n",
      "Enter college name : CKT\n",
      "Enter university : MU\n",
      "Enter college location : Panvel\n",
      "-----\n",
      " College name : CKT\n",
      "University : MU\n",
      "Location : Panvel \n",
      "-----\n"
     ]
    }
   ],
   "source": [
    "#dynamic - take multiple input from user\n",
    "\n",
    "class CollegeInfo:\n",
    "    def __init__(self,name,uni,location):\n",
    "        self.name = name\n",
    "        self.university = uni\n",
    "        self.location = location\n",
    "\n",
    "    def __str__(self):\n",
    "        return f\"College name : {self.name}\\nUniversity : {self.university}\\nLocation : {self.location}\"\n",
    "\n",
    "n = int(input(\"Enter number of input : \"))\n",
    "\n",
    "for i in range(n):\n",
    "    c = CollegeInfo(input(\"Enter college name : \"),input(\"Enter university : \"),input(\"Enter college location : \"))\n",
    "    print(\"-----\\n\",c,\"\\n-----\")"
   ]
  }
 ],
 "metadata": {
  "kernelspec": {
   "display_name": "Python 3 (ipykernel)",
   "language": "python",
   "name": "python3"
  },
  "language_info": {
   "codemirror_mode": {
    "name": "ipython",
    "version": 3
   },
   "file_extension": ".py",
   "mimetype": "text/x-python",
   "name": "python",
   "nbconvert_exporter": "python",
   "pygments_lexer": "ipython3",
   "version": "3.9.12"
  }
 },
 "nbformat": 4,
 "nbformat_minor": 5
}

{
 "cells": [
  {
   "cell_type": "markdown",
   "id": "3800a35b",
   "metadata": {},
   "source": [
    "## Abstraction"
   ]
  },
  {
   "cell_type": "markdown",
   "id": "c28ddf69",
   "metadata": {},
   "source": [
    "### Abstraction:\n",
    "\n",
    "- hiding the complexity and showing essential features only\n",
    "- it is achieved by abstract class\n",
    "- an abstract class is a class which is inherited by ABC(abtract base class) class and it contains atleast one abstract method\n",
    "- abstract method is a method which have abstractmethod decrator on it\n",
    "- abstract method can be implemented for unimplimented\n",
    "- ABC class and abstractmethod decorator should be imported from abc module\n",
    "- we cannot create object of abstract class\n",
    "- we can access properties of it by creating child of abstract class\n",
    "- while creating child we must implement all abstract methods of parent\n",
    "- if child fails to implement any one method then child also becomes abstract class\n",
    "- abstraction is used to design API(application programming interface)"
   ]
  },
  {
   "cell_type": "code",
   "execution_count": null,
   "id": "588ea109",
   "metadata": {},
   "outputs": [],
   "source": [
    "#syntax\n",
    "\n",
    "from abc import  ABC,abstractmethod\n",
    "\n",
    "class A(ABC):\n",
    "    @abstractmethod\n",
    "    def m1(self):\n",
    "        pass\n",
    "    \n",
    "class B(A):\n",
    "    pass"
   ]
  },
  {
   "cell_type": "code",
   "execution_count": 1,
   "id": "4ea51a34",
   "metadata": {},
   "outputs": [
    {
     "ename": "TypeError",
     "evalue": "Can't instantiate abstract class A with abstract method m1",
     "output_type": "error",
     "traceback": [
      "\u001b[1;31m---------------------------------------------------------------------------\u001b[0m",
      "\u001b[1;31mTypeError\u001b[0m                                 Traceback (most recent call last)",
      "Input \u001b[1;32mIn [1]\u001b[0m, in \u001b[0;36m<cell line: 8>\u001b[1;34m()\u001b[0m\n\u001b[0;32m      4\u001b[0m     \u001b[38;5;129m@abstractmethod\u001b[39m\n\u001b[0;32m      5\u001b[0m     \u001b[38;5;28;01mdef\u001b[39;00m \u001b[38;5;21mm1\u001b[39m(\u001b[38;5;28mself\u001b[39m):\n\u001b[0;32m      6\u001b[0m         \u001b[38;5;28;01mpass\u001b[39;00m\n\u001b[1;32m----> 8\u001b[0m a \u001b[38;5;241m=\u001b[39m \u001b[43mA\u001b[49m\u001b[43m(\u001b[49m\u001b[43m)\u001b[49m\n",
      "\u001b[1;31mTypeError\u001b[0m: Can't instantiate abstract class A with abstract method m1"
     ]
    }
   ],
   "source": [
    "#  Invalid synax\n",
    "from abc import  ABC,abstractmethod\n",
    "\n",
    "class A(ABC):\n",
    "    @abstractmethod\n",
    "    def m1(self):\n",
    "        pass\n",
    "    \n",
    "a = A()"
   ]
  },
  {
   "cell_type": "markdown",
   "id": "aa38913f",
   "metadata": {},
   "source": [
    "Note: we cannot create object of abstract class\n",
    "hence, TypeError"
   ]
  },
  {
   "cell_type": "code",
   "execution_count": 2,
   "id": "089aea81",
   "metadata": {},
   "outputs": [
    {
     "name": "stdout",
     "output_type": "stream",
     "text": [
      "<__main__.A object at 0x000001F7B0B076D0>\n"
     ]
    }
   ],
   "source": [
    "from abc import  ABC,abstractmethod\n",
    "\n",
    "class A():\n",
    "    @abstractmethod\n",
    "    def m1(self):\n",
    "        pass\n",
    "    \n",
    "a = A()\n",
    "print(a)"
   ]
  },
  {
   "cell_type": "code",
   "execution_count": 3,
   "id": "429afc3a",
   "metadata": {},
   "outputs": [
    {
     "name": "stdout",
     "output_type": "stream",
     "text": [
      "<__main__.A object at 0x000001F7AF803DC0>\n"
     ]
    }
   ],
   "source": [
    "from abc import  ABC,abstractmethod\n",
    "\n",
    "class A(ABC):\n",
    "    \n",
    "    def m1(self):\n",
    "        pass\n",
    "    \n",
    "a = A()\n",
    "print(a)"
   ]
  },
  {
   "cell_type": "markdown",
   "id": "f83967ff",
   "metadata": {},
   "source": [
    "Note: if we dont put ABC in brackets or we dont put abstractmethod decorator in brackets then it is not an abstract class and object are created as shown in above 2 examples."
   ]
  },
  {
   "cell_type": "code",
   "execution_count": 4,
   "id": "c3dfaf08",
   "metadata": {},
   "outputs": [
    {
     "name": "stdout",
     "output_type": "stream",
     "text": [
      "m1 of B\n",
      "m2 of B\n",
      "m2 of A\n",
      "m2 of A\n",
      "m3 of A\n"
     ]
    }
   ],
   "source": [
    "# Example of abstract class\n",
    "\n",
    "# import abc module\n",
    "from abc import ABC, abstractmethod\n",
    "\n",
    "# create a class which inherits ABC class\n",
    "class A(ABC):\n",
    "\n",
    "    # abstract class should contain atleasts one abstract method\n",
    "    # to create a abstract method a decorator is use above method\n",
    "\n",
    "    # abstarct method can be implimented or unimplimented\n",
    "    # unimplimented abstract method -- pass\n",
    "    @abstractmethod\n",
    "    def m1(self):\n",
    "        pass\n",
    "\n",
    "    # implimented abstract method\n",
    "    @abstractmethod\n",
    "    def m2(self):\n",
    "        print(\"m2 of A\")\n",
    "\n",
    "    # instance method\n",
    "    def m3(self):\n",
    "        print(\"m3 of A\")\n",
    "\n",
    "# we cannot create object of abstarct class\n",
    "# to access properties of abstract class we create a child of abstract class\n",
    "\n",
    "class B(A): # it is a simple class which has parent abstract class\n",
    "\n",
    "    # we must implement all abstact method of parent ,\n",
    "    # else the class will be an abstact class and we cannot create object\n",
    "\n",
    "    def m1(self):\n",
    "        print(\"m1 of B\")\n",
    "\n",
    "    def m2(self):\n",
    "        print(\"m2 of B\")\n",
    "        super().m2()\n",
    "        A.m2(self)\n",
    "    \n",
    "b = B()\n",
    "\n",
    "b.m1()\n",
    "b.m2()\n",
    "b.m3()"
   ]
  },
  {
   "cell_type": "markdown",
   "id": "5c143f6a",
   "metadata": {},
   "source": [
    "Note: in multiple inheritance\n",
    "eg: class C(B,A):\n",
    "\n",
    "if we put abstract class in 1st parameter/arg then it given \n",
    "TypeError"
   ]
  },
  {
   "cell_type": "code",
   "execution_count": 5,
   "id": "d2fe9d0d",
   "metadata": {},
   "outputs": [
    {
     "ename": "TypeError",
     "evalue": "Cannot create a consistent method resolution\norder (MRO) for bases A, B",
     "output_type": "error",
     "traceback": [
      "\u001b[1;31m---------------------------------------------------------------------------\u001b[0m",
      "\u001b[1;31mTypeError\u001b[0m                                 Traceback (most recent call last)",
      "Input \u001b[1;32mIn [5]\u001b[0m, in \u001b[0;36m<cell line: 1>\u001b[1;34m()\u001b[0m\n\u001b[1;32m----> 1\u001b[0m \u001b[38;5;28;01mclass\u001b[39;00m \u001b[38;5;21;01mC\u001b[39;00m(A,B): \n\u001b[0;32m      3\u001b[0m     \u001b[38;5;28;01mdef\u001b[39;00m \u001b[38;5;21mm1\u001b[39m(\u001b[38;5;28mself\u001b[39m):\n\u001b[0;32m      4\u001b[0m         \u001b[38;5;28mprint\u001b[39m(\u001b[38;5;124m\"\u001b[39m\u001b[38;5;124mm1 of C\u001b[39m\u001b[38;5;124m\"\u001b[39m)\n",
      "File \u001b[1;32mC:\\ProgramData\\Anaconda3\\lib\\abc.py:106\u001b[0m, in \u001b[0;36mABCMeta.__new__\u001b[1;34m(mcls, name, bases, namespace, **kwargs)\u001b[0m\n\u001b[0;32m    105\u001b[0m \u001b[38;5;28;01mdef\u001b[39;00m \u001b[38;5;21m__new__\u001b[39m(mcls, name, bases, namespace, \u001b[38;5;241m*\u001b[39m\u001b[38;5;241m*\u001b[39mkwargs):\n\u001b[1;32m--> 106\u001b[0m     \u001b[38;5;28mcls\u001b[39m \u001b[38;5;241m=\u001b[39m \u001b[38;5;28msuper\u001b[39m()\u001b[38;5;241m.\u001b[39m\u001b[38;5;21m__new__\u001b[39m(mcls, name, bases, namespace, \u001b[38;5;241m*\u001b[39m\u001b[38;5;241m*\u001b[39mkwargs)\n\u001b[0;32m    107\u001b[0m     _abc_init(\u001b[38;5;28mcls\u001b[39m)\n\u001b[0;32m    108\u001b[0m     \u001b[38;5;28;01mreturn\u001b[39;00m \u001b[38;5;28mcls\u001b[39m\n",
      "\u001b[1;31mTypeError\u001b[0m: Cannot create a consistent method resolution\norder (MRO) for bases A, B"
     ]
    }
   ],
   "source": [
    "class C(A,B): \n",
    "\n",
    "    def m1(self):\n",
    "        print(\"m1 of C\")\n",
    "\n",
    "    def m2(self):\n",
    "        print(\"m2 of C\")\n",
    "\n",
    "c = C()"
   ]
  },
  {
   "cell_type": "code",
   "execution_count": 6,
   "id": "6bb6cda4",
   "metadata": {
    "scrolled": true
   },
   "outputs": [
    {
     "name": "stdout",
     "output_type": "stream",
     "text": [
      "m1 of C\n",
      "m1 of B\n",
      "m2 of B\n",
      "m2 of A\n",
      "m2 of A\n"
     ]
    }
   ],
   "source": [
    "# in this multiple inherited class abstract class is not in first para \n",
    "#hence no error \n",
    "\n",
    "class C(B,A):\n",
    "\n",
    "    def m1(Self):\n",
    "        print(\"m1 of C\")\n",
    "        super().m1()\n",
    "        super().m2()\n",
    "c = C()\n",
    "c.m1()"
   ]
  },
  {
   "cell_type": "markdown",
   "id": "81a90d8e",
   "metadata": {},
   "source": [
    "Practice example:"
   ]
  },
  {
   "cell_type": "code",
   "execution_count": 7,
   "id": "b5c3931b",
   "metadata": {},
   "outputs": [
    {
     "name": "stdout",
     "output_type": "stream",
     "text": [
      "TATA Punch\n",
      "Mileage of TATA Punch is 19Km/l\n",
      "Petol\n",
      "SUV\n",
      "MARUTI WagonR\n",
      "Mileage of MARUTI WagonR is 24 - 34Km/l\n",
      "Petol\n",
      "Hatchback\n"
     ]
    }
   ],
   "source": [
    "from abc import ABC, abstractmethod\n",
    "\n",
    "class Car(ABC):\n",
    "\n",
    "    @abstractmethod\n",
    "    def mileage(self):\n",
    "        pass\n",
    "\n",
    "    @abstractmethod\n",
    "    def fuel_type(self):\n",
    "        pass\n",
    "\n",
    "    @abstractmethod\n",
    "    def car_type(self):\n",
    "        pass\n",
    "\n",
    "class TATA(Car):\n",
    "\n",
    "    def car_name(Self):\n",
    "        print(\"TATA Punch\")\n",
    "\n",
    "    def mileage(self):\n",
    "        print(\"Mileage of TATA Punch is 19Km/l\")\n",
    "\n",
    "    def fuel_type(self):\n",
    "        print(\"Petol\")\n",
    "\n",
    "    def car_type(self):\n",
    "        print(\"SUV\")\n",
    "\n",
    "class Maruti(Car):\n",
    "\n",
    "    def car_name(Self):\n",
    "        print(\"MARUTI WagonR\")\n",
    "\n",
    "    def mileage(self):\n",
    "        print(\"Mileage of MARUTI WagonR is 24 - 34Km/l\")\n",
    "\n",
    "    def fuel_type(self):\n",
    "        print(\"Petol\")\n",
    "\n",
    "    def car_type(self):\n",
    "        print(\"Hatchback\")\n",
    "\n",
    "punch = TATA()\n",
    "punch.car_name()\n",
    "punch.mileage()\n",
    "punch.fuel_type()\n",
    "punch.car_type()\n",
    "\n",
    "wagonr = Maruti()\n",
    "wagonr.car_name()\n",
    "wagonr.mileage()\n",
    "wagonr.fuel_type()\n",
    "wagonr.car_type()"
   ]
  },
  {
   "cell_type": "markdown",
   "id": "35ac9955",
   "metadata": {},
   "source": [
    "### Indirect subclass"
   ]
  },
  {
   "cell_type": "markdown",
   "id": "b17d1247",
   "metadata": {},
   "source": [
    "We can create indirect subclass of an abstract class by registering it through our abstract class. The need of indirect subclass is when we do not want to implement all the abstract methods of an abstract class. In indirect subclass, it is not mandatory to implement all the abstract methods of abstract class."
   ]
  },
  {
   "cell_type": "code",
   "execution_count": 8,
   "id": "c1d58fed",
   "metadata": {},
   "outputs": [
    {
     "name": "stdout",
     "output_type": "stream",
     "text": [
      "m1 of B\n",
      "m2 of B\n",
      "m2 of A\n"
     ]
    }
   ],
   "source": [
    "from abc import ABC,abstractmethod\n",
    "\n",
    "class A(ABC): #abstract class\n",
    "\n",
    "    @abstractmethod\n",
    "    def m1(self):\n",
    "        print(\"m1 of A\")\n",
    "\n",
    "    @abstractmethod\n",
    "    def m2(self):\n",
    "        print(\"m2 of A\")\n",
    "\n",
    "    def m3(self):\n",
    "        print(\"m3 of A\")\n",
    "\n",
    "class B(A): #direct subclass\n",
    "    \n",
    "    def m1(self):\n",
    "        print(\"m1 of B\")\n",
    "\n",
    "    def m2(self):\n",
    "        print(\"m2 of B\")\n",
    "        super().m2()\n",
    "\n",
    "b = B()\n",
    "b.m1()\n",
    "b.m2()"
   ]
  },
  {
   "cell_type": "code",
   "execution_count": 9,
   "id": "7722f339",
   "metadata": {},
   "outputs": [
    {
     "name": "stdout",
     "output_type": "stream",
     "text": [
      "m1 of C\n",
      "m4 of C\n"
     ]
    }
   ],
   "source": [
    "class C: #indirect subclass - you cannot use properties of inheritance like\n",
    "         # super func and MRO\n",
    "\n",
    "    def m1(self):\n",
    "        print(\"m1 of C\")\n",
    "        #super().m1() #AttributeError: 'super' object has no attribute 'm1'\n",
    "\n",
    "    def m4(self):\n",
    "        print(\"m4 of C\")\n",
    "        \n",
    "class D(A): #direct subclass\n",
    "    \n",
    "    def m1(self):\n",
    "        print(\"m1 of D\")\n",
    "\n",
    "    def m2(self):\n",
    "        print(\"m2 of D\")\n",
    "        super().m2()\n",
    "        \n",
    "c = C()\n",
    "c.m1()\n",
    "c.m4()"
   ]
  },
  {
   "cell_type": "code",
   "execution_count": 10,
   "id": "f2af8f16",
   "metadata": {},
   "outputs": [
    {
     "name": "stdout",
     "output_type": "stream",
     "text": [
      "True\n",
      "False\n"
     ]
    }
   ],
   "source": [
    "#check - before register\n",
    "print(issubclass(B,A))\n",
    "print(issubclass(C,A))"
   ]
  },
  {
   "cell_type": "code",
   "execution_count": 11,
   "id": "e9699cef",
   "metadata": {},
   "outputs": [
    {
     "name": "stdout",
     "output_type": "stream",
     "text": [
      "True\n"
     ]
    }
   ],
   "source": [
    "#check - after register\n",
    "#to register --- abstract_classname.register(indirect_subclass)\n",
    "A.register(C)\n",
    "print(issubclass(C,A))"
   ]
  },
  {
   "cell_type": "code",
   "execution_count": 12,
   "id": "56075851",
   "metadata": {},
   "outputs": [
    {
     "name": "stdout",
     "output_type": "stream",
     "text": [
      "printing the subclass of A --->\n",
      "[<class '__main__.B'>, <class '__main__.D'>]\n"
     ]
    }
   ],
   "source": [
    "#to check the subclasses of class A (abstract class)\n",
    "#note - C is not is subclass of A as it is indirect subclass of class A\n",
    "print(\"printing the subclass of A --->\")\n",
    "print(A.__subclasses__())"
   ]
  },
  {
   "cell_type": "markdown",
   "id": "2b035660",
   "metadata": {},
   "source": [
    "### Creating common interface for abstract methods(Duck typing):"
   ]
  },
  {
   "cell_type": "code",
   "execution_count": 13,
   "id": "009b0c33",
   "metadata": {},
   "outputs": [
    {
     "name": "stdout",
     "output_type": "stream",
     "text": [
      "Commit of Oracle\n",
      "rollback of Oracle\n",
      "Commit of MySQL\n",
      "rollback of MySQL\n",
      "Commit of SQLite\n",
      "rollback of SQLite\n"
     ]
    }
   ],
   "source": [
    "class Connect(ABC):\n",
    "    @abstractmethod\n",
    "    def commit(self):\n",
    "        pass\n",
    "    @abstractmethod\n",
    "    def rollback(self):\n",
    "        pass\n",
    "\n",
    "class Oracle(Connect):\n",
    "\n",
    "    def commit(self):\n",
    "        print(\"Commit of Oracle\")\n",
    "\n",
    "    def rollback(self):\n",
    "        print(\"rollback of Oracle\")\n",
    "\n",
    "class MySQL(Connect):\n",
    "\n",
    "    def commit(self):\n",
    "        print(\"Commit of MySQL\")\n",
    "\n",
    "    def rollback(self):\n",
    "        print(\"rollback of MySQL\")\n",
    "\n",
    "class SQLite(Connect):\n",
    "\n",
    "    def commit(self):\n",
    "        print(\"Commit of SQLite\")\n",
    "\n",
    "    def rollback(self):\n",
    "        print(\"rollback of SQLite\")\n",
    "\n",
    "\n",
    "#creating a funct which class common \n",
    "def common(obj):\n",
    "    obj.commit()\n",
    "    obj.rollback()\n",
    "    \n",
    "common(Oracle())\n",
    "common(MySQL())\n",
    "common(SQLite())"
   ]
  },
  {
   "cell_type": "code",
   "execution_count": 14,
   "id": "2e445c23",
   "metadata": {},
   "outputs": [
    {
     "name": "stdout",
     "output_type": "stream",
     "text": [
      "Commit of Oracle\n",
      "rollback of Oracle\n",
      "Commit of MySQL\n",
      "rollback of MySQL\n",
      "Commit of SQLite\n",
      "rollback of SQLite\n"
     ]
    }
   ],
   "source": [
    "# or you can also itrate\n",
    "methods = [Oracle(),MySQL(),SQLite()]\n",
    "\n",
    "for i in methods:\n",
    "    common(i)\n"
   ]
  },
  {
   "cell_type": "markdown",
   "id": "82000d7c",
   "metadata": {},
   "source": [
    "Practice example for common interface in abs methods:"
   ]
  },
  {
   "cell_type": "code",
   "execution_count": 15,
   "id": "02af1e5a",
   "metadata": {},
   "outputs": [
    {
     "name": "stdout",
     "output_type": "stream",
     "text": [
      "Area of Rectangle is :  70 cm\n",
      "Area of Triangle is :  12.0 cm\n",
      "Area of Square is :  25 cm\n",
      "Area of Circle is :  50.24 cm\n"
     ]
    }
   ],
   "source": [
    "from abc import ABC,abstractmethod\n",
    "\n",
    "class Shape(ABC):\n",
    "\n",
    "    @abstractmethod\n",
    "    def area(self):\n",
    "        pass\n",
    "\n",
    "class Rectangle(Shape):\n",
    "    l = 10\n",
    "    h = 7\n",
    "\n",
    "    def area(self):\n",
    "        res = self.l*self.h\n",
    "        print(\"Area of Rectangle is : \",res,\"cm\")\n",
    "\n",
    "class Triangle(Shape):\n",
    "    l = 4\n",
    "    w = 6\n",
    "\n",
    "    def area(self):\n",
    "        res = 0.5 * self.w * self.l\n",
    "        print(\"Area of Triangle is : \",res,\"cm\")\n",
    "\n",
    "class Square(Shape):\n",
    "    l = 5\n",
    "\n",
    "    def area(self):\n",
    "        res = (self.l**2)\n",
    "        print(\"Area of Square is : \",res,\"cm\")\n",
    "\n",
    "class Circle(Shape):\n",
    "    r = 4\n",
    "\n",
    "    def area(self):\n",
    "        res = 3.14*(self.r**2)\n",
    "        print(\"Area of Circle is : \",res,\"cm\")\n",
    "\n",
    "\n",
    "def common(obj):\n",
    "    obj.area()\n",
    "\n",
    "methods = [Rectangle(),Triangle(),Square(),Circle()]\n",
    "for i in methods:\n",
    "    common(i)"
   ]
  }
 ],
 "metadata": {
  "kernelspec": {
   "display_name": "Python 3 (ipykernel)",
   "language": "python",
   "name": "python3"
  },
  "language_info": {
   "codemirror_mode": {
    "name": "ipython",
    "version": 3
   },
   "file_extension": ".py",
   "mimetype": "text/x-python",
   "name": "python",
   "nbconvert_exporter": "python",
   "pygments_lexer": "ipython3",
   "version": "3.9.12"
  }
 },
 "nbformat": 4,
 "nbformat_minor": 5
}

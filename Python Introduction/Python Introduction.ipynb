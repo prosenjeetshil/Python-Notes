{
 "cells": [
  {
   "cell_type": "markdown",
   "id": "a6a89618",
   "metadata": {},
   "source": [
    "##### What is Python:"
   ]
  },
  {
   "cell_type": "markdown",
   "id": "d00b85d0",
   "metadata": {},
   "source": [
    "- Python is a high-level, interpreted, object oriented programming language.\n",
    "- It is platform independent. widely used in web development, ML and AI.\n",
    "- It is simple and easy to learn and read and requires less amount of code to develop.\n",
    "- it can be used to build almost any type of application with the right tools/libraries. \n",
    "- Additionally, python supports objects, modules, threads, exception-handling, and automatic memory management which help in modelling real-world problems and building applications to solve these problems."
   ]
  },
  {
   "cell_type": "markdown",
   "id": "17118ac7",
   "metadata": {},
   "source": [
    "##### Founder of Python:"
   ]
  },
  {
   "cell_type": "markdown",
   "id": "28a8eb90",
   "metadata": {},
   "source": [
    "Python was created by Guido van Rossum, and released in 1991 and emphasizes on the DRY (Don’t Repeat Yourself) principle and readability."
   ]
  },
  {
   "cell_type": "markdown",
   "id": "36a86442",
   "metadata": {},
   "source": [
    "##### Features/Advantages of Python:"
   ]
  },
  {
   "cell_type": "markdown",
   "id": "3349a075",
   "metadata": {},
   "source": [
    "- Easy Syntax – No semicolons, No Curly Braces.\n",
    "- Readable - Easy to use & Learn.\n",
    "- Platform Independent – Can be used cross-platform.\n",
    "- Dynamically Typed – No need to specify data type of variable.\n",
    "- Free and Open Source – We don’t have to pay money to any organization to use Python.\n",
    "- Supports OOP as well.\n",
    "- Follows Multiple Paradigms – like Procedure Oriented, Functional, Imperative.\n",
    "- Extensible/Integrated – Can be used with C,C++.\n",
    "- Large Library Collection – Plenty of third party modules & Predefined functions.\n",
    "- Powerful Web Frameworks – like Flask, Django."
   ]
  },
  {
   "cell_type": "markdown",
   "id": "03f584fa",
   "metadata": {},
   "source": [
    "##### Disadvantages of Python:"
   ]
  },
  {
   "cell_type": "markdown",
   "id": "a74daf8d",
   "metadata": {},
   "source": [
    "- Slow – Compared to C/C++\n",
    "- Weak in case of mobile development\n",
    "- Backward Incompatible - Python 2.x program can’t be executed in Python 3.x"
   ]
  },
  {
   "cell_type": "markdown",
   "id": "8aa3c6fa",
   "metadata": {},
   "source": [
    "##### History of Python:"
   ]
  },
  {
   "cell_type": "markdown",
   "id": "3b7bb5b3",
   "metadata": {},
   "source": [
    "- Conceived by Guido Van Rossum in 1989.\n",
    "- Influenced by Languages like – ABC, Modula-3\n",
    "- Python 1.x -1994\n",
    "- Python 2.x -2000\n",
    "- Python 3.x -2008\n",
    "- Python 3.8.0 -2019"
   ]
  },
  {
   "cell_type": "markdown",
   "id": "64aa52df",
   "metadata": {},
   "source": [
    "##### Applications of Python:"
   ]
  },
  {
   "cell_type": "markdown",
   "id": "848e896d",
   "metadata": {},
   "source": [
    "- Web development\n",
    "- Game development\n",
    "- Machine Learning and AI\n",
    "- Data Science and Data Visualization\n",
    "- Desktop GUI\n",
    "- Business Applications\n",
    "- Embedded Applications"
   ]
  },
  {
   "cell_type": "markdown",
   "id": "c9482fe8",
   "metadata": {},
   "source": [
    "##### Whether Python is Interpreted or Compiled?"
   ]
  },
  {
   "cell_type": "markdown",
   "id": "fd2cd3c3",
   "metadata": {},
   "source": [
    "Compiler:\n",
    "\n",
    "A compiler is a computer program that transforms (translates) source code of a programming language (the source language) into another computer language (the target language). In most cases compilers are used to transform source code into executable program, i.e. they translate code from high-level programming languages into low (or lower) level languages, mostly assembly or machine code.\n",
    "\n",
    "Interpreter:\n",
    "\n",
    "An interpreter is a computer program that executes instructions written in a programming language. It can either execute the source code directly or translate the source code in a first step into a more efficient representation and execute this code."
   ]
  },
  {
   "cell_type": "markdown",
   "id": "e0e3c0a5",
   "metadata": {},
   "source": [
    "##### What is an Interpreted language?"
   ]
  },
  {
   "cell_type": "markdown",
   "id": "ac4b84ce",
   "metadata": {},
   "source": [
    "An Interpreted language executes its statements line by line. Languages such as Python, Javascript, R, PHP, and Ruby are prime examples of Interpreted languages. Programs written in an interpreted language runs directly from the source code, with no intermediary compilation step."
   ]
  },
  {
   "cell_type": "markdown",
   "id": "65630614",
   "metadata": {},
   "source": [
    "##### What is a dynamically typed language?"
   ]
  },
  {
   "cell_type": "markdown",
   "id": "0be8ade7",
   "metadata": {},
   "source": [
    "Static - Data Types are checked before execution.\n",
    "Dynamic - Data Types are checked during execution.\n",
    "\n",
    "Python is an interpreted language, executes each statement line by line and thus type-checking is done on the fly, during execution. Hence, Python is a Dynamically Typed Language."
   ]
  },
  {
   "cell_type": "markdown",
   "id": "b195d9e4",
   "metadata": {},
   "source": [
    "##### Can we compile .py file? Yes"
   ]
  },
  {
   "cell_type": "markdown",
   "id": "cd6e0f47",
   "metadata": {},
   "source": [
    "Steps to compile .py file:\n",
    "- Python code is translated into intermediate code\n",
    "- Python virtual machine run intermediate code.\n",
    "- We can compile manually python program.\n",
    "----------cmd---------------\n",
    "- python -m py_compile <filename>.py\n",
    "- python -m compileall"
   ]
  }
 ],
 "metadata": {
  "kernelspec": {
   "display_name": "Python 3 (ipykernel)",
   "language": "python",
   "name": "python3"
  },
  "language_info": {
   "codemirror_mode": {
    "name": "ipython",
    "version": 3
   },
   "file_extension": ".py",
   "mimetype": "text/x-python",
   "name": "python",
   "nbconvert_exporter": "python",
   "pygments_lexer": "ipython3",
   "version": "3.9.12"
  }
 },
 "nbformat": 4,
 "nbformat_minor": 5
}

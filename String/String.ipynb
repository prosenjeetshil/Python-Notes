{
 "cells": [
  {
   "cell_type": "markdown",
   "id": "36e6c19a",
   "metadata": {},
   "source": [
    "##### Strings:"
   ]
  },
  {
   "cell_type": "markdown",
   "id": "04cb58ee",
   "metadata": {},
   "source": [
    "- Strings are set of characters enclosed inside single or dounle quotes.\n",
    "- We can mention alphabets, digits and special symbols inside quotes.\n",
    "- Single line string is enclosed inside a pair of single or double quotes.\n",
    "- Multi-line string is enclosed inside a pair of 3 single or 3 double quotes.\n",
    "- String are immutable.\n",
    "- Indexing and slicing is allowed.\n",
    "- If we want to update string then we preform operation on string and reassign it to the same variable."
   ]
  },
  {
   "cell_type": "code",
   "execution_count": 1,
   "id": "08c56b1f",
   "metadata": {},
   "outputs": [
    {
     "name": "stdout",
     "output_type": "stream",
     "text": [
      "hello\n",
      "world!\n",
      "Single line string is enclosed inside a pair of single or double quotes.\n",
      "Multi-line string is enclosed inside a pair of 3 single or 3 double quotes.\n"
     ]
    }
   ],
   "source": [
    "a,b = \"hello\",\"world!\"\n",
    "c = \"\"\"Single line string is enclosed inside a pair of single or double quotes.\n",
    "Multi-line string is enclosed inside a pair of 3 single or 3 double quotes.\"\"\"\n",
    "\n",
    "print(a)\n",
    "print(b)\n",
    "print(c)"
   ]
  },
  {
   "cell_type": "markdown",
   "id": "6cfca754",
   "metadata": {},
   "source": [
    "NOTE: string is immutable you cannot change it "
   ]
  },
  {
   "cell_type": "code",
   "execution_count": 2,
   "id": "9eebd3a1",
   "metadata": {
    "scrolled": true
   },
   "outputs": [
    {
     "ename": "TypeError",
     "evalue": "'str' object does not support item assignment",
     "output_type": "error",
     "traceback": [
      "\u001b[1;31m---------------------------------------------------------------------------\u001b[0m",
      "\u001b[1;31mTypeError\u001b[0m                                 Traceback (most recent call last)",
      "Input \u001b[1;32mIn [2]\u001b[0m, in \u001b[0;36m<cell line: 1>\u001b[1;34m()\u001b[0m\n\u001b[1;32m----> 1\u001b[0m a[\u001b[38;5;241m1\u001b[39m] \u001b[38;5;241m=\u001b[39m \u001b[38;5;124m'\u001b[39m\u001b[38;5;124mb\u001b[39m\u001b[38;5;124m'\u001b[39m\n\u001b[0;32m      2\u001b[0m \u001b[38;5;28mprint\u001b[39m(a)\n",
      "\u001b[1;31mTypeError\u001b[0m: 'str' object does not support item assignment"
     ]
    }
   ],
   "source": [
    "a[1] = 'b'\n",
    "print(a)"
   ]
  },
  {
   "cell_type": "markdown",
   "id": "61a08c03",
   "metadata": {},
   "source": [
    "##### Unicodes / ASCII values:"
   ]
  },
  {
   "cell_type": "markdown",
   "id": "7c8ee37d",
   "metadata": {},
   "source": [
    "- A-Z : 65-90\n",
    "- a-z : 97-122\n",
    "- 0-9 : 48-47"
   ]
  },
  {
   "cell_type": "markdown",
   "id": "869588d8",
   "metadata": {},
   "source": [
    "##### Functions of string:"
   ]
  },
  {
   "cell_type": "markdown",
   "id": "7561753c",
   "metadata": {},
   "source": [
    "1. len() : It returns total no of chars in string.\n",
    "2. max() : It returns char with max unicode.\n",
    "3. min() : It returns char with min unicode.\n",
    "4. sorted() : It returns list of chars sorted alphabetically in ascending order according to unicode."
   ]
  },
  {
   "cell_type": "code",
   "execution_count": 3,
   "id": "057203a0",
   "metadata": {},
   "outputs": [
    {
     "name": "stdout",
     "output_type": "stream",
     "text": [
      "18\n",
      "u\n",
      "S\n",
      "['S', 'a', 'a', 'b', 'e', 'e', 'g', 'i', 'i', 'l', 'm', 'm', 'n', 'r', 'r', 't', 't', 'u']\n"
     ]
    }
   ],
   "source": [
    "a = \"Stringareimmutable\"\n",
    "\n",
    "print(len(a))\n",
    "print(max(a))\n",
    "print(min(a))\n",
    "print(sorted(a))"
   ]
  },
  {
   "cell_type": "markdown",
   "id": "1f3daed6",
   "metadata": {},
   "source": [
    "##### Mathematical operations on string:"
   ]
  },
  {
   "cell_type": "markdown",
   "id": "f386e1d6",
   "metadata": {},
   "source": [
    "1. Addition + : concanate the strings.\n",
    "2. Multiplication * : repeats the string."
   ]
  },
  {
   "cell_type": "code",
   "execution_count": 4,
   "id": "07aab411",
   "metadata": {},
   "outputs": [
    {
     "name": "stdout",
     "output_type": "stream",
     "text": [
      "helloworld!\n",
      "hellohellohellohello\n",
      "\n",
      "\n"
     ]
    }
   ],
   "source": [
    "a,b = \"hello\",\"world!\"\n",
    "\n",
    "print(a+b)\n",
    "print(a*4)\n",
    "print(a*-1)\n",
    "print(a*0)"
   ]
  },
  {
   "cell_type": "code",
   "execution_count": 5,
   "id": "1bb445f4",
   "metadata": {},
   "outputs": [
    {
     "ename": "TypeError",
     "evalue": "unsupported operand type(s) for /: 'str' and 'int'",
     "output_type": "error",
     "traceback": [
      "\u001b[1;31m---------------------------------------------------------------------------\u001b[0m",
      "\u001b[1;31mTypeError\u001b[0m                                 Traceback (most recent call last)",
      "Input \u001b[1;32mIn [5]\u001b[0m, in \u001b[0;36m<cell line: 2>\u001b[1;34m()\u001b[0m\n\u001b[0;32m      1\u001b[0m \u001b[38;5;66;03m#div and sub not allowed\u001b[39;00m\n\u001b[1;32m----> 2\u001b[0m \u001b[38;5;28mprint\u001b[39m(\u001b[43ma\u001b[49m\u001b[38;5;241;43m/\u001b[39;49m\u001b[38;5;241;43m2\u001b[39;49m)\n",
      "\u001b[1;31mTypeError\u001b[0m: unsupported operand type(s) for /: 'str' and 'int'"
     ]
    }
   ],
   "source": [
    "#div and sub not allowed\n",
    "print(a/2)#TypeError: unsupported operand type(s) for -: 'str' and 'int'"
   ]
  },
  {
   "cell_type": "markdown",
   "id": "82960363",
   "metadata": {},
   "source": [
    "##### Membership test on string: \n",
    "- in or not in"
   ]
  },
  {
   "cell_type": "code",
   "execution_count": 6,
   "id": "56586a9a",
   "metadata": {},
   "outputs": [
    {
     "name": "stdout",
     "output_type": "stream",
     "text": [
      "True\n",
      "False\n",
      "True\n",
      "False\n"
     ]
    }
   ],
   "source": [
    "a = \"hello\"\n",
    "print('h' in a)\n",
    "print('t' in a)\n",
    "print('z' not in a)\n",
    "print('h' not in a)"
   ]
  },
  {
   "cell_type": "markdown",
   "id": "a78f8339",
   "metadata": {},
   "source": [
    "##### Methods on string:"
   ]
  },
  {
   "cell_type": "markdown",
   "id": "6759406a",
   "metadata": {},
   "source": [
    "lower() : It converts whole string into lowercase."
   ]
  },
  {
   "cell_type": "code",
   "execution_count": 8,
   "id": "ee1c3ebd",
   "metadata": {},
   "outputs": [
    {
     "name": "stdout",
     "output_type": "stream",
     "text": [
      "hello world!\n"
     ]
    }
   ],
   "source": [
    "a = \"HELLO world!\"\n",
    "a = a.lower()\n",
    "print(a)"
   ]
  },
  {
   "cell_type": "markdown",
   "id": "b29e56ab",
   "metadata": {},
   "source": [
    "upper() : It converts whole string into uppercase."
   ]
  },
  {
   "cell_type": "code",
   "execution_count": 9,
   "id": "d162daac",
   "metadata": {},
   "outputs": [
    {
     "name": "stdout",
     "output_type": "stream",
     "text": [
      "HELLO WORLD!\n"
     ]
    }
   ],
   "source": [
    "a = \"HELLO world!\"\n",
    "a = a.upper()\n",
    "print(a)"
   ]
  },
  {
   "cell_type": "markdown",
   "id": "1c3e6af6",
   "metadata": {},
   "source": [
    "swapcase() : It coverts uppercase into lowercase and vice-a-versa."
   ]
  },
  {
   "cell_type": "code",
   "execution_count": 11,
   "id": "66b1ea1b",
   "metadata": {},
   "outputs": [
    {
     "name": "stdout",
     "output_type": "stream",
     "text": [
      "hElLo wOrLd!\n"
     ]
    }
   ],
   "source": [
    "a = \"HeLlO WoRlD!\"\n",
    "a = a.swapcase()\n",
    "print(a)"
   ]
  },
  {
   "cell_type": "markdown",
   "id": "eae5f40e",
   "metadata": {},
   "source": [
    "capitalize() : It converts only first char into uppercase an remaining into lowercase."
   ]
  },
  {
   "cell_type": "code",
   "execution_count": 12,
   "id": "c3c7039b",
   "metadata": {},
   "outputs": [
    {
     "name": "stdout",
     "output_type": "stream",
     "text": [
      "Hello world!\n"
     ]
    }
   ],
   "source": [
    "a = \"HeLlO WoRlD!\"\n",
    "a = a.capitalize()\n",
    "print(a)"
   ]
  },
  {
   "cell_type": "markdown",
   "id": "39a55807",
   "metadata": {},
   "source": [
    "title() : It converts first char of each word into uppercasee and remaining into lowercase."
   ]
  },
  {
   "cell_type": "code",
   "execution_count": 13,
   "id": "ce089616",
   "metadata": {},
   "outputs": [
    {
     "name": "stdout",
     "output_type": "stream",
     "text": [
      "Hello World!\n"
     ]
    }
   ],
   "source": [
    "a = \"HeLlO WoRlD!\"\n",
    "a = a.title()\n",
    "print(a)"
   ]
  },
  {
   "cell_type": "markdown",
   "id": "0adb0003",
   "metadata": {},
   "source": [
    "split() : It returns list of substring seperated by separator if specified. by default separator is space"
   ]
  },
  {
   "cell_type": "code",
   "execution_count": 14,
   "id": "8220c4bd",
   "metadata": {},
   "outputs": [
    {
     "name": "stdout",
     "output_type": "stream",
     "text": [
      "['strings', 'are', 'immutable']\n"
     ]
    }
   ],
   "source": [
    "a = \"strings are immutable\"\n",
    "b = a.split()\n",
    "print(b)"
   ]
  },
  {
   "cell_type": "code",
   "execution_count": 15,
   "id": "f090edef",
   "metadata": {},
   "outputs": [
    {
     "name": "stdout",
     "output_type": "stream",
     "text": [
      "['strings ', 're immut', 'ble']\n"
     ]
    }
   ],
   "source": [
    "a = \"strings are immutable\"\n",
    "b = a.split('a')\n",
    "print(b)"
   ]
  },
  {
   "cell_type": "markdown",
   "id": "780d7b29",
   "metadata": {},
   "source": [
    "strip() : It removes whitespaces from start and end of string."
   ]
  },
  {
   "cell_type": "code",
   "execution_count": 16,
   "id": "e56652de",
   "metadata": {},
   "outputs": [
    {
     "name": "stdout",
     "output_type": "stream",
     "text": [
      "strings are immutable\n"
     ]
    }
   ],
   "source": [
    "a = \"                    strings are immutable               \"\n",
    "a = a.strip()\n",
    "print(a)"
   ]
  },
  {
   "cell_type": "markdown",
   "id": "1c3d40bf",
   "metadata": {},
   "source": [
    "count() : It returns count of char or set of chars."
   ]
  },
  {
   "cell_type": "code",
   "execution_count": 17,
   "id": "247b5b90",
   "metadata": {},
   "outputs": [
    {
     "name": "stdout",
     "output_type": "stream",
     "text": [
      "2\n"
     ]
    }
   ],
   "source": [
    "a = \"strings are immutable\"\n",
    "print(a.count('m'))"
   ]
  },
  {
   "cell_type": "markdown",
   "id": "64f8b1a4",
   "metadata": {},
   "source": [
    "startswith() : Returns true if the string starts with the specified value"
   ]
  },
  {
   "cell_type": "code",
   "execution_count": 18,
   "id": "52f3b555",
   "metadata": {},
   "outputs": [
    {
     "name": "stdout",
     "output_type": "stream",
     "text": [
      "True\n"
     ]
    }
   ],
   "source": [
    "txt = \"Hello, welcome to my world.\"\n",
    "x = txt.startswith(\"Hello\")\n",
    "print(x) "
   ]
  },
  {
   "cell_type": "markdown",
   "id": "e4de3bd1",
   "metadata": {},
   "source": [
    "endswith() : Returns true if the string ends with the specified value"
   ]
  },
  {
   "cell_type": "code",
   "execution_count": 19,
   "id": "6fe91949",
   "metadata": {},
   "outputs": [
    {
     "name": "stdout",
     "output_type": "stream",
     "text": [
      "True\n"
     ]
    }
   ],
   "source": [
    "txt = \"Hello, welcome to my world.\"\n",
    "x = txt.endswith(\".\")\n",
    "print(x)"
   ]
  },
  {
   "cell_type": "markdown",
   "id": "b89204c7",
   "metadata": {},
   "source": [
    "index() : It returns first occurance index position of specified element."
   ]
  },
  {
   "cell_type": "code",
   "execution_count": 20,
   "id": "1053fe90",
   "metadata": {},
   "outputs": [
    {
     "name": "stdout",
     "output_type": "stream",
     "text": [
      "7\n"
     ]
    }
   ],
   "source": [
    "txt = \"Hello, welcome to my world.\"\n",
    "x = txt.index(\"welcome\")\n",
    "print(x) "
   ]
  },
  {
   "cell_type": "markdown",
   "id": "68ed7b6f",
   "metadata": {},
   "source": [
    "find() : It returns index of specified char\\ele. same as index method the only diffrence is it doesnt raise error if the specified value is not found."
   ]
  },
  {
   "cell_type": "code",
   "execution_count": 21,
   "id": "0f342310",
   "metadata": {},
   "outputs": [
    {
     "name": "stdout",
     "output_type": "stream",
     "text": [
      "7\n"
     ]
    }
   ],
   "source": [
    "txt = \"Hello, welcome to my world.\"\n",
    "x = txt.find(\"welcome\")\n",
    "print(x) "
   ]
  },
  {
   "cell_type": "code",
   "execution_count": 24,
   "id": "4e1ad37a",
   "metadata": {},
   "outputs": [
    {
     "name": "stdout",
     "output_type": "stream",
     "text": [
      "-1\n"
     ]
    }
   ],
   "source": [
    "txt = \"Hello, welcome to my world.\"\n",
    "x = txt.find(\"x\")\n",
    "\n",
    "print(x)\n",
    "#print(y)"
   ]
  },
  {
   "cell_type": "code",
   "execution_count": 25,
   "id": "28bce7a3",
   "metadata": {},
   "outputs": [
    {
     "ename": "ValueError",
     "evalue": "substring not found",
     "output_type": "error",
     "traceback": [
      "\u001b[1;31m---------------------------------------------------------------------------\u001b[0m",
      "\u001b[1;31mValueError\u001b[0m                                Traceback (most recent call last)",
      "Input \u001b[1;32mIn [25]\u001b[0m, in \u001b[0;36m<cell line: 2>\u001b[1;34m()\u001b[0m\n\u001b[0;32m      1\u001b[0m txt \u001b[38;5;241m=\u001b[39m \u001b[38;5;124m\"\u001b[39m\u001b[38;5;124mHello, welcome to my world.\u001b[39m\u001b[38;5;124m\"\u001b[39m\n\u001b[1;32m----> 2\u001b[0m \u001b[38;5;28mprint\u001b[39m(\u001b[43mtxt\u001b[49m\u001b[38;5;241;43m.\u001b[39;49m\u001b[43mindex\u001b[49m\u001b[43m(\u001b[49m\u001b[38;5;124;43m\"\u001b[39;49m\u001b[38;5;124;43mx\u001b[39;49m\u001b[38;5;124;43m\"\u001b[39;49m\u001b[43m)\u001b[49m)\n",
      "\u001b[1;31mValueError\u001b[0m: substring not found"
     ]
    }
   ],
   "source": [
    "txt = \"Hello, welcome to my world.\"\n",
    "print(txt.index(\"x\"))"
   ]
  },
  {
   "cell_type": "markdown",
   "id": "fcd7d95a",
   "metadata": {},
   "source": [
    "center() : This method will return center align of string with specified char (by default space) as a fill char."
   ]
  },
  {
   "cell_type": "code",
   "execution_count": 26,
   "id": "433c4aa2",
   "metadata": {},
   "outputs": [
    {
     "name": "stdout",
     "output_type": "stream",
     "text": [
      "       banana       \n"
     ]
    }
   ],
   "source": [
    "txt = \"banana\"\n",
    "x = txt.center(20)\n",
    "print(x) "
   ]
  },
  {
   "cell_type": "code",
   "execution_count": 27,
   "id": "90fef0a1",
   "metadata": {},
   "outputs": [
    {
     "name": "stdout",
     "output_type": "stream",
     "text": [
      "$$$$$$$banana$$$$$$$\n"
     ]
    }
   ],
   "source": [
    "txt = \"banana\"\n",
    "x = txt.center(20,\"$\")\n",
    "print(x) "
   ]
  },
  {
   "cell_type": "markdown",
   "id": "99de5e8e",
   "metadata": {},
   "source": [
    "replace() : Returns a string where a specified value is replaced with a specified value"
   ]
  },
  {
   "cell_type": "code",
   "execution_count": 28,
   "id": "e811f1aa",
   "metadata": {},
   "outputs": [
    {
     "name": "stdout",
     "output_type": "stream",
     "text": [
      "I like apples\n"
     ]
    }
   ],
   "source": [
    "txt = \"I like bananas\"\n",
    "x = txt.replace(\"bananas\", \"apples\")\n",
    "print(x) "
   ]
  },
  {
   "cell_type": "markdown",
   "id": "20b5d782",
   "metadata": {},
   "source": [
    "isalnum() : Returns True if all characters in the string are alphanumeric\n",
    "isalpha() : Returns True if all characters in the string are in the alphabet\n",
    "isdigit() : Returns True if all characters in the string are digits\n",
    "islower() : Returns True if all characters in the string are lower case\n",
    "isnumeric() : Returns True if all characters in the string are numeric\n",
    "istitle() : Returns True if the string follows the rules of a title\n",
    "isupper() : Returns True if all characters in the string are upper case"
   ]
  },
  {
   "cell_type": "markdown",
   "id": "514bee41",
   "metadata": {},
   "source": [
    "String has many methods, to learn more please open the link below:"
   ]
  },
  {
   "cell_type": "markdown",
   "id": "d649690d",
   "metadata": {},
   "source": [
    "https://www.w3schools.com/python/python_strings_methods.asp"
   ]
  }
 ],
 "metadata": {
  "kernelspec": {
   "display_name": "Python 3 (ipykernel)",
   "language": "python",
   "name": "python3"
  },
  "language_info": {
   "codemirror_mode": {
    "name": "ipython",
    "version": 3
   },
   "file_extension": ".py",
   "mimetype": "text/x-python",
   "name": "python",
   "nbconvert_exporter": "python",
   "pygments_lexer": "ipython3",
   "version": "3.9.12"
  }
 },
 "nbformat": 4,
 "nbformat_minor": 5
}

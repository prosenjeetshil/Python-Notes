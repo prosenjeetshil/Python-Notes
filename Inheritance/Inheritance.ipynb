{
 "cells": [
  {
   "cell_type": "markdown",
   "id": "126fe678",
   "metadata": {},
   "source": [
    "## Inheritance"
   ]
  },
  {
   "cell_type": "markdown",
   "id": "5e307b78",
   "metadata": {},
   "source": [
    "### Inheritance:\n",
    "\n",
    "- inheritance is a way of creating a new class from an existing class\n",
    "- it is ability of one class to derive properties of other class\n",
    "- here there is parent-child relationship between classes\n",
    "- parent class is known as base class or super class\n",
    "- child class is known as derived class or subclass\n",
    "- always child inherits properties of parent but reverse is not possible\n",
    "- it is achieved by writing parent class name inside brackets of child class\n",
    "- obj is parent of all classes in python\n",
    "- we can access properties of parent with child class object\n",
    "- but always priority is given to child in python"
   ]
  },
  {
   "cell_type": "code",
   "execution_count": null,
   "id": "3fa5c41e",
   "metadata": {},
   "outputs": [],
   "source": [
    "#syntax of class\n",
    "class class_name():\n",
    "    pass\n",
    "\n",
    "class class_name(obj):\n",
    "    pass"
   ]
  },
  {
   "cell_type": "code",
   "execution_count": null,
   "id": "0211c84c",
   "metadata": {},
   "outputs": [],
   "source": [
    "#syntax of inheritance\n",
    "class Parent:\n",
    "    pass\n",
    "\n",
    "class Child(Parent):\n",
    "    pass"
   ]
  },
  {
   "cell_type": "code",
   "execution_count": 1,
   "id": "04435650",
   "metadata": {
    "scrolled": true
   },
   "outputs": [
    {
     "name": "stdout",
     "output_type": "stream",
     "text": [
      "10\n",
      "m1 of A\n"
     ]
    }
   ],
   "source": [
    "#Example of inheritance\n",
    "\n",
    "class A: #parent\n",
    "    x = 10\n",
    "    \n",
    "    def m1(self):\n",
    "        print(\"m1 of A\")\n",
    "\n",
    "class B(A): #child\n",
    "    pass\n",
    "\n",
    "b = B()\n",
    "#here we do not have x and m1 in B, hence it access the properties of A\n",
    "print(b.x) \n",
    "b.m1()"
   ]
  },
  {
   "cell_type": "markdown",
   "id": "429b6156",
   "metadata": {},
   "source": [
    "### Type of inheritance\n",
    "\n",
    "1. single level inheritance - 1 parent - 1 child\n",
    "2. multilevel inheritance - 1 parent -  1 child - 1 grandchild....\n",
    "3. multiple inheritance - many parent - single child\n",
    "4. hierarchical inheritance - single parent - many child\n",
    "5. hybrid inheritance - it is a combination of more than one type of inheritance"
   ]
  },
  {
   "cell_type": "markdown",
   "id": "c8d1c993",
   "metadata": {},
   "source": [
    "1. single level\n",
    "\n",
    "A\n",
    "|\n",
    "B \n",
    "\n",
    "2. multi-level \n",
    "\n",
    "A\n",
    "|\n",
    "B\n",
    "|\n",
    "C\n",
    "\n",
    "3. multiple\n",
    "\n",
    "A   B\n",
    " \\ /\n",
    "  C\n",
    "  \n",
    " 4. hierarchical\n",
    " \n",
    "  A\n",
    " / \\\n",
    "B   C \n",
    "\n",
    "5. hybrid\n",
    "\n",
    "  A\n",
    " / \\\n",
    "B   C\n",
    "|\n",
    "D"
   ]
  },
  {
   "cell_type": "markdown",
   "id": "bc1efdb6",
   "metadata": {},
   "source": [
    "### 1. Single inheritance"
   ]
  },
  {
   "cell_type": "markdown",
   "id": "d3debaec",
   "metadata": {},
   "source": [
    "When a child class inherits from only one parent class, it is called single inheritance."
   ]
  },
  {
   "cell_type": "code",
   "execution_count": 2,
   "id": "074a581a",
   "metadata": {},
   "outputs": [
    {
     "name": "stdout",
     "output_type": "stream",
     "text": [
      "20\n",
      "m1 of B\n",
      "10\n",
      "m1 of A\n",
      "10\n",
      "m1 of A\n",
      "m2 of B\n"
     ]
    }
   ],
   "source": [
    "#1. Single inheritance\n",
    "\n",
    "class A:\n",
    "    x = 10\n",
    "    \n",
    "    def m1(self):\n",
    "        print(\"m1 of A\")\n",
    "        \n",
    "class B(A):\n",
    "    x = 20\n",
    "    \n",
    "    def m1(self):\n",
    "        print(\"m1 of B\")\n",
    "        \n",
    "        #to access x from A using class name\n",
    "        #here it is not mandatory to have inheritance b/w classes\n",
    "        print(A.x) #10\n",
    "        A.m1(self) #m1 of A - here self is mandatory\n",
    "        \n",
    "        #using super func\n",
    "        #here it is mandatory to have inheritance b/w classes\n",
    "        #this func takes control to immediate parent class\n",
    "        print(super().x) #10\n",
    "        super().m1() #m1 of A\n",
    "        \n",
    "        #use self to access properties within same class\n",
    "        self.m2() #m2 of B\n",
    "        \n",
    "    def m2(self):\n",
    "        print(\"m2 of B\")\n",
    "        \n",
    "b = B()\n",
    "print(b.x) # 20\n",
    "b.m1() #m1 of B"
   ]
  },
  {
   "cell_type": "markdown",
   "id": "ea8e5eb0",
   "metadata": {},
   "source": [
    "### 2. Multi-level inheritance"
   ]
  },
  {
   "cell_type": "markdown",
   "id": "6a2b6513",
   "metadata": {},
   "source": [
    "Multi-level inheritance is archived when a derived class inherits another derived class. There is no limit on the number of levels up to which, the multi-level inheritance is archived in python."
   ]
  },
  {
   "cell_type": "code",
   "execution_count": 3,
   "id": "6eea416b",
   "metadata": {},
   "outputs": [
    {
     "name": "stdout",
     "output_type": "stream",
     "text": [
      "30\n",
      "m1 of C\n",
      "20\n",
      "m1 of B\n",
      "10\n",
      "m1 of A\n"
     ]
    }
   ],
   "source": [
    "#2. Multi-level inheritance\n",
    "\n",
    "class A:\n",
    "    x =10\n",
    "\n",
    "    def m1(self):\n",
    "        print(\"m1 of A\")\n",
    "\n",
    "class B(A):\n",
    "    x = 20 \n",
    "\n",
    "    def m1(self): \n",
    "        print(\"m1 of B\") \n",
    "        print(super().x)\n",
    "        super().m1()\n",
    "\n",
    "class C(B):\n",
    "    x = 30\n",
    "\n",
    "    def m1(self):\n",
    "        print(\"m1 of C\") \n",
    "        print(super().x)\n",
    "        super().m1() # super func can only access immediate class\n",
    "        #print(A.x)\n",
    "        #A.m1(self)\n",
    "\n",
    "c = C()\n",
    "print(c.x) \n",
    "c.m1()"
   ]
  },
  {
   "cell_type": "markdown",
   "id": "56113441",
   "metadata": {},
   "source": [
    "### 3. Multiple inheritance"
   ]
  },
  {
   "cell_type": "markdown",
   "id": "aee97cff",
   "metadata": {},
   "source": [
    "When a child class inherits from multiple parent classes, it is called multiple inheritance."
   ]
  },
  {
   "cell_type": "code",
   "execution_count": 4,
   "id": "ca93e6c7",
   "metadata": {},
   "outputs": [
    {
     "name": "stdout",
     "output_type": "stream",
     "text": [
      "30\n",
      "m1 of C\n",
      "10\n",
      "m1 of A\n",
      "20\n",
      "m1 of B\n"
     ]
    }
   ],
   "source": [
    "#3. Multiple inheritance\n",
    "\n",
    "class A:\n",
    "    x = 10\n",
    "\n",
    "    def m1(self):\n",
    "        print(\"m1 of A\")\n",
    "        print(super().x)\n",
    "        super().m1()\n",
    "\n",
    "class B:\n",
    "    x =20\n",
    "\n",
    "    def m1(self):\n",
    "        print(\"m1 of B\")\n",
    "##        print(super().x)\n",
    "##        super().m1()\n",
    "        \n",
    "class C(A,B):\n",
    "    x = 30\n",
    "\n",
    "    def m1(self):\n",
    "        print(\"m1 of C\")\n",
    "        print(super().x)\n",
    "        super().m1()\n",
    "\n",
    "c = C()\n",
    "print(c.x)\n",
    "c.m1()"
   ]
  },
  {
   "cell_type": "markdown",
   "id": "93f2f99f",
   "metadata": {},
   "source": [
    "### Linearisation/MRO(Method Resoution Order)\n",
    "\n",
    "syntax:\n",
    "childclass_name.mro()"
   ]
  },
  {
   "cell_type": "code",
   "execution_count": 5,
   "id": "d7f266dc",
   "metadata": {},
   "outputs": [
    {
     "name": "stdout",
     "output_type": "stream",
     "text": [
      "MRO of class C\n",
      "[<class '__main__.C'>, <class '__main__.A'>, <class '__main__.B'>, <class 'object'>]\n"
     ]
    }
   ],
   "source": [
    "print(\"MRO of class C\")\n",
    "print(C.mro())"
   ]
  },
  {
   "cell_type": "markdown",
   "id": "96dff049",
   "metadata": {},
   "source": [
    "Note:by using MRO in above multiple inheritance example you can see that,\n",
    "class C immediate parent is class A but although class A has no parent is shows that its immediate parent is B.\n",
    "\n",
    "class C(A,B) --->  MRO of class C\n",
    "<class '__main__.C'>, <class '__main__.A'>, <class '__main__.B'>, <class 'object'>"
   ]
  },
  {
   "cell_type": "markdown",
   "id": "482d462b",
   "metadata": {},
   "source": [
    "### 4. Hierarchical inheritance"
   ]
  },
  {
   "cell_type": "markdown",
   "id": "3844f64c",
   "metadata": {},
   "source": [
    "More than one derived classes are created from a single base."
   ]
  },
  {
   "cell_type": "code",
   "execution_count": 6,
   "id": "d6a5fa0f",
   "metadata": {},
   "outputs": [
    {
     "name": "stdout",
     "output_type": "stream",
     "text": [
      "10\n",
      "10\n",
      "m1 of A\n",
      "10\n",
      "m1 of A\n",
      "m1 of A\n",
      "10\n",
      "m1 of A\n",
      "[<class '__main__.B'>, <class '__main__.A'>, <class 'object'>]\n",
      "[<class '__main__.C'>, <class '__main__.A'>, <class 'object'>]\n"
     ]
    }
   ],
   "source": [
    "#4. Hierarchical inheritance\n",
    "\n",
    "class A:\n",
    "    x = 10\n",
    "\n",
    "    def m1(self):\n",
    "        print(\"m1 of A\")    \n",
    "\n",
    "class B(A):\n",
    "    x = 10\n",
    "\n",
    "    def m1(self):\n",
    "        print(\"m1 of A\")\n",
    "        print(super().x)\n",
    "        super().m1()\n",
    "\n",
    "class C(A):\n",
    "    x = 10\n",
    "\n",
    "    def m1(self):\n",
    "        print(\"m1 of A\")\n",
    "        print(super().x)\n",
    "        super().m1()\n",
    "b = B()\n",
    "c = C()\n",
    "print(b.x)\n",
    "print(c.x)\n",
    "b.m1()\n",
    "c.m1()\n",
    "\n",
    "print(B.mro())\n",
    "print(C.mro())"
   ]
  },
  {
   "cell_type": "markdown",
   "id": "c66966b1",
   "metadata": {},
   "source": [
    "### 5. Hybrid inheritance"
   ]
  },
  {
   "cell_type": "markdown",
   "id": "c4dc4c2e",
   "metadata": {},
   "source": [
    "This form combines more than one form of inheritance. Basically, it is a blend of more than one type of inheritance like blend of multiple and hierarchical inheritance."
   ]
  },
  {
   "cell_type": "code",
   "execution_count": 7,
   "id": "4e91373b",
   "metadata": {},
   "outputs": [
    {
     "name": "stdout",
     "output_type": "stream",
     "text": [
      "m1 of D\n",
      "m1 of B\n",
      "m1 of C\n",
      "m1 of A\n",
      "[<class '__main__.D'>, <class '__main__.B'>, <class '__main__.C'>, <class '__main__.A'>, <class 'object'>]\n"
     ]
    }
   ],
   "source": [
    "#5. hybrid inheritance - Diamond problem\n",
    "\n",
    "class A:\n",
    "    def m1(self):\n",
    "        print(\"m1 of A\")\n",
    "\n",
    "class B(A):\n",
    "    def m1(self):\n",
    "        print(\"m1 of B\")\n",
    "        super().m1()\n",
    "\n",
    "class C(A):\n",
    "    def m1(self):\n",
    "        print(\"m1 of C\")\n",
    "        super().m1()\n",
    "\n",
    "class D(B,C):\n",
    "    def m1(self):\n",
    "        print(\"m1 of D\")\n",
    "        super().m1()\n",
    "    \n",
    "\n",
    "\n",
    "d =D()\n",
    "d.m1()\n",
    "print(D.mro())"
   ]
  },
  {
   "cell_type": "markdown",
   "id": "a2d8a618",
   "metadata": {},
   "source": [
    "### The issubclass(sub,sup) method:\n",
    "\n",
    "The issubclass(sub, sup) method is used to check the relationships between the specified classes. It returns true if the first class is the subclass of the second class, and false otherwise.\n",
    "\n",
    "### The isinstance (obj, class) method:\n",
    "\n",
    "The isinstance() method is used to check the relationship between the objects and classes. It returns true if the first parameter, i.e., obj is the instance of the second parameter, i.e., class."
   ]
  },
  {
   "cell_type": "code",
   "execution_count": 8,
   "id": "2d052e93",
   "metadata": {},
   "outputs": [
    {
     "name": "stdout",
     "output_type": "stream",
     "text": [
      "True\n",
      "False\n",
      "True\n",
      "True\n",
      "False\n"
     ]
    }
   ],
   "source": [
    "class A:\n",
    "    pass\n",
    "\n",
    "class B(A):\n",
    "    pass\n",
    "\n",
    "class C:\n",
    "    pass\n",
    "\n",
    "a = A()\n",
    "b = B()\n",
    "\n",
    "print(issubclass(B,A)) #True\n",
    "print(issubclass(C,A)) #False\n",
    "\n",
    "print(isinstance(a,A)) #True\n",
    "print(isinstance(b,A)) #True (through inheritance)\n",
    "print(isinstance(a,B)) #False"
   ]
  }
 ],
 "metadata": {
  "kernelspec": {
   "display_name": "Python 3 (ipykernel)",
   "language": "python",
   "name": "python3"
  },
  "language_info": {
   "codemirror_mode": {
    "name": "ipython",
    "version": 3
   },
   "file_extension": ".py",
   "mimetype": "text/x-python",
   "name": "python",
   "nbconvert_exporter": "python",
   "pygments_lexer": "ipython3",
   "version": "3.9.12"
  }
 },
 "nbformat": 4,
 "nbformat_minor": 5
}
